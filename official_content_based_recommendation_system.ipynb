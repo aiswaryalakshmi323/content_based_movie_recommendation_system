{
  "nbformat": 4,
  "nbformat_minor": 0,
  "metadata": {
    "colab": {
      "provenance": []
    },
    "kernelspec": {
      "name": "python3",
      "display_name": "Python 3"
    },
    "language_info": {
      "name": "python"
    }
  },
  "cells": [
    {
      "cell_type": "markdown",
      "source": [
        "**Content based recommendation System**"
      ],
      "metadata": {
        "id": "OFCjjxKH8Vrz"
      }
    },
    {
      "cell_type": "markdown",
      "source": [
        "*This notebook details the process of building a recommendation system that suggests movies based on their content, such as genre, cast, and keywords.*"
      ],
      "metadata": {
        "id": "ujuXaBMR8lUS"
      }
    },
    {
      "cell_type": "code",
      "source": [
        "import pandas as pd\n",
        "import numpy as np\n",
        "import ast\n",
        "import pickle\n",
        "from nltk.stem.porter import PorterStemmer\n",
        "from sklearn.feature_extraction.text import CountVectorizer\n",
        "from sklearn.metrics.pairwise import cosine_similarity\n"
      ],
      "metadata": {
        "id": "Wr9z_advwuD2"
      },
      "execution_count": 36,
      "outputs": []
    },
    {
      "cell_type": "markdown",
      "source": [
        "*We are loading three datasets: tmdb_5000_movies.csv, tmdb_5000_credits.csv, and a custom Bollywood dataset. The TMDB datasets will be merged to combine movie details with cast and crew information.*"
      ],
      "metadata": {
        "id": "FJAP44Wu8uT5"
      }
    },
    {
      "cell_type": "code",
      "source": [
        "tmdb_credits_url = \"https://www.dropbox.com/scl/fi/o6h6ml24maqkkg5smkwyj/tmdb_5000_credits.csv?rlkey=q9gh85659aspuqb7i2aytjhuo&st=cf5lpy8a&dl=1\"\n",
        "tmdb_movies_url = \"https://www.dropbox.com/scl/fi/s49mp8ssn1ziohhxy424b/tmdb_5000_movies.csv?rlkey=cwc84dofl7axm09f2zp0zbomc&st=z6k326x2&dl=1\"\n",
        "bollywood_url = \"https://www.dropbox.com/scl/fi/wbn9stgrmbrpg1r3gld3x/bollywood_full.csv?rlkey=736m50a899kjkgs5swe9gfhbz&st=7bxvjfs8&dl=1\""
      ],
      "metadata": {
        "id": "NjPS0j2eig-e"
      },
      "execution_count": 37,
      "outputs": []
    },
    {
      "cell_type": "code",
      "source": [
        "tmdb_credits = pd.read_csv(tmdb_credits_url)\n",
        "tmdb_movies = pd.read_csv(tmdb_movies_url)\n",
        "bollywood = pd.read_csv(bollywood_url)"
      ],
      "metadata": {
        "id": "j68Fk48WilPO"
      },
      "execution_count": 38,
      "outputs": []
    },
    {
      "cell_type": "code",
      "source": [
        "hollywood_df = tmdb_movies.merge(tmdb_credits, left_on='id', right_on='movie_id')\n",
        "hollywood_df = hollywood_df[[\"id\",\"title_x\",\"overview\",\"genres\",\"keywords\",\"cast\",\"crew\"]]\n",
        "hollywood_df = hollywood_df.rename(columns={\"id\":\"movie_id\", \"title_x\": \"title\"})\n",
        "hollywood_df['origin'] = 'Hollywood'\n",
        "hollywood_df['poster_url'] = ''"
      ],
      "metadata": {
        "id": "0iETdOwB_HWu"
      },
      "execution_count": 39,
      "outputs": []
    },
    {
      "cell_type": "code",
      "source": [
        "def extract_genres(genre_str):\n",
        "    try:\n",
        "        genre_list = ast.literal_eval(genre_str)\n",
        "        return [genre['name'] for genre in genre_list]\n",
        "    except (ValueError, SyntaxError): return []\n",
        "\n",
        "bollywood['genres'] = bollywood['genres'].apply(extract_genres)\n",
        "bollywood = bollywood.rename(columns={\n",
        "    \"title_x\": \"title\", \"story\": \"overview\",\n",
        "    \"actors\": \"cast\", \"poster_path\": \"poster_url\"\n",
        "})"
      ],
      "metadata": {
        "id": "1Q1FLCeq_HTe"
      },
      "execution_count": 40,
      "outputs": []
    },
    {
      "cell_type": "code",
      "source": [
        "bollywood = bollywood[[\"title\", \"overview\", \"genres\", \"cast\", \"poster_url\"]]\n",
        "bollywood.dropna(inplace=True)\n",
        "bollywood[\"movie_id\"] = range(100000, 100000 + len(bollywood))\n",
        "bollywood['origin'] = 'Bollywood'\n",
        "bollywood['crew'] = ''"
      ],
      "metadata": {
        "id": "KvwZmdvY_HKP"
      },
      "execution_count": 41,
      "outputs": []
    },
    {
      "cell_type": "code",
      "source": [
        "common_cols = [\"movie_id\", \"title\", \"overview\", \"genres\", \"keywords\", \"cast\", \"crew\", \"poster_url\", \"origin\"]"
      ],
      "metadata": {
        "id": "QPQ2yhkZ_tzu"
      },
      "execution_count": 42,
      "outputs": []
    },
    {
      "cell_type": "code",
      "source": [
        "combined = pd.concat([\n",
        "    hollywood_df.reindex(columns=common_cols),\n",
        "    bollywood.reindex(columns=common_cols)\n",
        "], ignore_index=True)\n",
        "combined['keywords'].fillna('[]', inplace=True)\n",
        "combined['crew'].fillna('[]', inplace=True)"
      ],
      "metadata": {
        "colab": {
          "base_uri": "https://localhost:8080/"
        },
        "id": "JQ0LIsQk__0P",
        "outputId": "6eabc984-75b4-48fa-9f4e-ec36ea7360e3"
      },
      "execution_count": 43,
      "outputs": [
        {
          "output_type": "stream",
          "name": "stderr",
          "text": [
            "/tmp/ipython-input-2855716538.py:5: FutureWarning: A value is trying to be set on a copy of a DataFrame or Series through chained assignment using an inplace method.\n",
            "The behavior will change in pandas 3.0. This inplace method will never work because the intermediate object on which we are setting values always behaves as a copy.\n",
            "\n",
            "For example, when doing 'df[col].method(value, inplace=True)', try using 'df.method({col: value}, inplace=True)' or df[col] = df[col].method(value) instead, to perform the operation inplace on the original object.\n",
            "\n",
            "\n",
            "  combined['keywords'].fillna('[]', inplace=True)\n",
            "/tmp/ipython-input-2855716538.py:6: FutureWarning: A value is trying to be set on a copy of a DataFrame or Series through chained assignment using an inplace method.\n",
            "The behavior will change in pandas 3.0. This inplace method will never work because the intermediate object on which we are setting values always behaves as a copy.\n",
            "\n",
            "For example, when doing 'df[col].method(value, inplace=True)', try using 'df.method({col: value}, inplace=True)' or df[col] = df[col].method(value) instead, to perform the operation inplace on the original object.\n",
            "\n",
            "\n",
            "  combined['crew'].fillna('[]', inplace=True)\n"
          ]
        }
      ]
    },
    {
      "cell_type": "code",
      "source": [
        "def convert_json(obj):\n",
        "    try: return [i[\"name\"] for i in ast.literal_eval(obj)]\n",
        "    except: return []\n",
        "\n",
        "def convert_list_or_string(obj):\n",
        "    if isinstance(obj, list): return obj\n",
        "    elif isinstance(obj, str): return [name.strip() for name in obj.split(',')]\n",
        "    return []\n",
        "\n",
        "def get_top_3(obj):\n",
        "    return obj[:3]\n",
        "\n",
        "def get_director(obj): # Only for Hollywood data\n",
        "    try:\n",
        "        for i in ast.literal_eval(obj):\n",
        "            if i[\"job\"] == \"Director\": return [i[\"name\"]]\n",
        "    except: return []\n",
        "    return []\n",
        "\n",
        "def collapse(L):\n",
        "    return [i.replace(\" \", \"\").lower() for i in L]\n"
      ],
      "metadata": {
        "id": "6nYvAie-FaYd"
      },
      "execution_count": 44,
      "outputs": []
    },
    {
      "cell_type": "code",
      "source": [
        "combined['genres'] = combined['genres'].apply(convert_list_or_string)"
      ],
      "metadata": {
        "id": "X8plJyOrAI6P"
      },
      "execution_count": 45,
      "outputs": []
    },
    {
      "cell_type": "code",
      "source": [
        "combined['keywords'] = combined['keywords'].apply(convert_json)"
      ],
      "metadata": {
        "id": "heHTMekzAkPO"
      },
      "execution_count": 46,
      "outputs": []
    },
    {
      "cell_type": "code",
      "source": [
        "combined['cast'] = combined['cast'].apply(convert_list_or_string)"
      ],
      "metadata": {
        "id": "Fh4Uxd2AAiHu"
      },
      "execution_count": 47,
      "outputs": []
    },
    {
      "cell_type": "code",
      "source": [
        "combined['cast'] = combined['cast'].apply(get_top_3)"
      ],
      "metadata": {
        "id": "xI-aFpdbAfn-"
      },
      "execution_count": 48,
      "outputs": []
    },
    {
      "cell_type": "code",
      "source": [
        "combined['crew'] = combined['crew'].apply(get_director)"
      ],
      "metadata": {
        "id": "0cU9oN7XAbe2"
      },
      "execution_count": 49,
      "outputs": []
    },
    {
      "cell_type": "code",
      "source": [
        "combined[\"overview\"] = combined[\"overview\"].apply(lambda x: x.split() if isinstance(x, str) else [])"
      ],
      "metadata": {
        "id": "37dFDUXMAI9W"
      },
      "execution_count": 50,
      "outputs": []
    },
    {
      "cell_type": "code",
      "source": [
        "for feature in ['genres', 'keywords', 'cast', 'crew']:\n",
        "    combined[feature] = combined[feature].apply(collapse)"
      ],
      "metadata": {
        "id": "nE-zItifAJCG"
      },
      "execution_count": 51,
      "outputs": []
    },
    {
      "cell_type": "code",
      "source": [
        "combined[\"tags\"] = combined[\"overview\"] + combined[\"genres\"] + combined[\"keywords\"] + combined[\"cast\"] + combined[\"crew\"]\n",
        "combined[\"tags\"] = combined[\"tags\"].apply(lambda x: \" \".join(x).lower())"
      ],
      "metadata": {
        "id": "pXwvGjU6AJE-"
      },
      "execution_count": 52,
      "outputs": []
    },
    {
      "cell_type": "code",
      "source": [
        "final_df = combined[[\"movie_id\", \"title\", \"tags\", \"overview\", \"cast\", \"crew\", \"poster_url\", \"origin\"]].copy()"
      ],
      "metadata": {
        "id": "iP6F1Ri2AJHv"
      },
      "execution_count": 53,
      "outputs": []
    },
    {
      "cell_type": "code",
      "source": [
        "ps = PorterStemmer()"
      ],
      "metadata": {
        "id": "VtR6JJjSAJKe"
      },
      "execution_count": 54,
      "outputs": []
    },
    {
      "cell_type": "code",
      "source": [
        "final_df[\"tags\"] = final_df[\"tags\"].apply(lambda x: \" \".join([ps.stem(i) for i in x.split()]))\n",
        "from sklearn.feature_extraction.text import TfidfVectorizer\n",
        "tfidf = TfidfVectorizer(max_features=5000, stop_words=\"english\")\n",
        "vectors = tfidf.fit_transform(final_df[\"tags\"]).toarray()\n",
        "similarity = cosine_similarity(vectors)"
      ],
      "metadata": {
        "id": "-9HLM5mcAJNn"
      },
      "execution_count": 55,
      "outputs": []
    },
    {
      "cell_type": "code",
      "source": [
        "pickle.dump(final_df.to_dict(), open(\"movie_list.pkl\", \"wb\"))\n",
        "pickle.dump(similarity, open(\"similarity.pkl\", \"wb\"))"
      ],
      "metadata": {
        "id": "WutKXasKBZzW"
      },
      "execution_count": 56,
      "outputs": []
    }
  ]
}